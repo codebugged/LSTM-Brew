{
  "nbformat": 4,
  "nbformat_minor": 0,
  "metadata": {
    "colab": {
      "name": "1.MNIST_LSTM.ipynb",
      "provenance": []
    },
    "kernelspec": {
      "name": "python3",
      "display_name": "Python 3"
    },
    "language_info": {
      "name": "python"
    },
    "accelerator": "GPU"
  },
  "cells": [
    {
      "cell_type": "code",
      "metadata": {
        "id": "cMBUPucGFGXX"
      },
      "source": [
        "import os\n",
        "import tensorflow as tf\n",
        "from tensorflow import keras\n",
        "from tensorflow.keras import layers\n",
        "from tensorflow.keras.datasets import mnist"
      ],
      "execution_count": 1,
      "outputs": []
    },
    {
      "cell_type": "code",
      "metadata": {
        "id": "9m1XxwlPOSuj"
      },
      "source": [
        "physical_devices = tf.config.list_physical_devices(\"GPU\")\n",
        "tf.config.experimental.set_memory_growth(physical_devices[0], True)"
      ],
      "execution_count": 2,
      "outputs": []
    },
    {
      "cell_type": "code",
      "metadata": {
        "colab": {
          "base_uri": "https://localhost:8080/"
        },
        "id": "3kF097AtOxyZ",
        "outputId": "6fe607da-5819-495f-8656-74cea967a48f"
      },
      "source": [
        "(x_train, y_train), (x_test, y_test) = mnist.load_data()\n",
        "x_train = x_train.astype(\"float32\") / 255.0\n",
        "x_test = x_test.astype(\"float32\") / 255.0"
      ],
      "execution_count": 3,
      "outputs": [
        {
          "output_type": "stream",
          "name": "stdout",
          "text": [
            "Downloading data from https://storage.googleapis.com/tensorflow/tf-keras-datasets/mnist.npz\n",
            "11493376/11490434 [==============================] - 0s 0us/step\n",
            "11501568/11490434 [==============================] - 0s 0us/step\n"
          ]
        }
      ]
    },
    {
      "cell_type": "code",
      "metadata": {
        "colab": {
          "base_uri": "https://localhost:8080/"
        },
        "id": "lxw4S769QrOf",
        "outputId": "40c64222-d48f-4186-d88d-94ff99c04fa6"
      },
      "source": [
        "model = keras.Sequential()\n",
        "model.add(keras.Input(shape=(None, 28)))\n",
        "model.add(\n",
        "    layers.Bidirectional(layers.LSTM(256, return_sequences=True, activation=\"relu\"))\n",
        ")\n",
        "model.add(layers.LSTM(256, name=\"lstm_layer2\"))\n",
        "model.add(layers.Dense(10))"
      ],
      "execution_count": 4,
      "outputs": [
        {
          "output_type": "stream",
          "name": "stdout",
          "text": [
            "WARNING:tensorflow:Layer lstm will not use cuDNN kernels since it doesn't meet the criteria. It will use a generic GPU kernel as fallback when running on GPU.\n",
            "WARNING:tensorflow:Layer lstm will not use cuDNN kernels since it doesn't meet the criteria. It will use a generic GPU kernel as fallback when running on GPU.\n",
            "WARNING:tensorflow:Layer lstm will not use cuDNN kernels since it doesn't meet the criteria. It will use a generic GPU kernel as fallback when running on GPU.\n"
          ]
        }
      ]
    },
    {
      "cell_type": "code",
      "metadata": {
        "colab": {
          "base_uri": "https://localhost:8080/"
        },
        "id": "iApGNAiZQ4BB",
        "outputId": "75f23b40-cb06-4679-f941-e82d2d39f96e"
      },
      "source": [
        "print(model.summary())"
      ],
      "execution_count": 5,
      "outputs": [
        {
          "output_type": "stream",
          "name": "stdout",
          "text": [
            "Model: \"sequential\"\n",
            "_________________________________________________________________\n",
            "Layer (type)                 Output Shape              Param #   \n",
            "=================================================================\n",
            "bidirectional (Bidirectional (None, None, 512)         583680    \n",
            "_________________________________________________________________\n",
            "lstm_layer2 (LSTM)           (None, 256)               787456    \n",
            "_________________________________________________________________\n",
            "dense (Dense)                (None, 10)                2570      \n",
            "=================================================================\n",
            "Total params: 1,373,706\n",
            "Trainable params: 1,373,706\n",
            "Non-trainable params: 0\n",
            "_________________________________________________________________\n",
            "None\n"
          ]
        }
      ]
    },
    {
      "cell_type": "code",
      "metadata": {
        "id": "AzRkQUxTQ7yS"
      },
      "source": [
        "model.compile(\n",
        "    loss=keras.losses.SparseCategoricalCrossentropy(from_logits=True),\n",
        "    optimizer=keras.optimizers.Adam(learning_rate=0.001),\n",
        "    metrics=[\"accuracy\"],\n",
        ")"
      ],
      "execution_count": 7,
      "outputs": []
    },
    {
      "cell_type": "code",
      "metadata": {
        "colab": {
          "base_uri": "https://localhost:8080/",
          "height": 422
        },
        "id": "RiXYbzkPVtu_",
        "outputId": "18d13c58-1c52-4504-850d-4c5ef0168416"
      },
      "source": [
        "tf.keras.utils.plot_model(\n",
        "    model, to_file='model.png', show_shapes=True, show_dtype=True,\n",
        "    show_layer_names=True, rankdir='TB', expand_nested=True, dpi=96,\n",
        "    layer_range=None\n",
        ")"
      ],
      "execution_count": 11,
      "outputs": [
        {
          "output_type": "execute_result",
          "data": {
            "image/png": "[encoded data removed]",
            "text/plain": [
              "<IPython.core.display.Image object>"
            ]
          },
          "metadata": {},
          "execution_count": 11
        }
      ]
    },
    {
      "cell_type": "code",
      "metadata": {
        "colab": {
          "base_uri": "https://localhost:8080/"
        },
        "id": "ZU00m6hQRA8t",
        "outputId": "67fda6a9-46e7-4c41-97aa-e2f0c5687a91"
      },
      "source": [
        "model.fit(x_train, y_train, batch_size=64, epochs=10, verbose=2)"
      ],
      "execution_count": 8,
      "outputs": [
        {
          "output_type": "stream",
          "name": "stdout",
          "text": [
            "Epoch 1/10\n",
            "938/938 - 76s - loss: 0.2700 - accuracy: 0.9119\n",
            "Epoch 2/10\n",
            "938/938 - 70s - loss: 0.0790 - accuracy: 0.9765\n",
            "Epoch 3/10\n",
            "938/938 - 69s - loss: 0.0585 - accuracy: 0.9827\n",
            "Epoch 4/10\n",
            "938/938 - 69s - loss: 0.0438 - accuracy: 0.9865\n",
            "Epoch 5/10\n",
            "938/938 - 69s - loss: 0.0377 - accuracy: 0.9886\n",
            "Epoch 6/10\n",
            "938/938 - 69s - loss: 0.0315 - accuracy: 0.9903\n",
            "Epoch 7/10\n",
            "938/938 - 70s - loss: 0.0268 - accuracy: 0.9918\n",
            "Epoch 8/10\n",
            "938/938 - 69s - loss: 0.0244 - accuracy: 0.9926\n",
            "Epoch 9/10\n",
            "938/938 - 70s - loss: 0.0215 - accuracy: 0.9933\n",
            "Epoch 10/10\n",
            "938/938 - 70s - loss: 0.0180 - accuracy: 0.9944\n"
          ]
        },
        {
          "output_type": "execute_result",
          "data": {
            "text/plain": [
              "<keras.callbacks.History at 0x7f814d708a10>"
            ]
          },
          "metadata": {},
          "execution_count": 8
        }
      ]
    },
    {
      "cell_type": "code",
      "metadata": {
        "colab": {
          "base_uri": "https://localhost:8080/"
        },
        "id": "h-U6f-1KRGk4",
        "outputId": "0e27be7b-128c-4dc7-92c9-3d06c2e7a5cd"
      },
      "source": [
        "model.evaluate(x_test, y_test, batch_size=64, verbose=2)"
      ],
      "execution_count": 9,
      "outputs": [
        {
          "output_type": "stream",
          "name": "stdout",
          "text": [
            "157/157 - 2s - loss: 0.0315 - accuracy: 0.9907\n"
          ]
        },
        {
          "output_type": "execute_result",
          "data": {
            "text/plain": [
              "[0.031485117971897125, 0.9907000064849854]"
            ]
          },
          "metadata": {},
          "execution_count": 9
        }
      ]
    }
  ]
}